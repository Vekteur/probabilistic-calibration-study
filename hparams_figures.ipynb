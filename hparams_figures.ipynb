{
 "cells": [
  {
   "attachments": {},
   "cell_type": "markdown",
   "metadata": {},
   "source": [
    "### Setup"
   ]
  },
  {
   "cell_type": "code",
   "execution_count": null,
   "metadata": {},
   "outputs": [],
   "source": [
    "%load_ext autoreload\n",
    "%autoreload 2\n",
    "\n",
    "from functools import partial\n",
    "from pathlib import Path\n",
    "\n",
    "import matplotlib as mpl\n",
    "import matplotlib.pyplot as plt\n",
    "import numpy as np\n",
    "import pandas as pd\n",
    "import torch\n",
    "\n",
    "from uq.analysis.dataframes import (\n",
    "\tload_config, load_df, make_test_df_for_tuning, fillna\n",
    ")\n",
    "from uq.analysis.plot_cohen_d import build_cohen_d, plot_cohen_d_boxplot\n",
    "from uq.utils.general import filter_dict, set_notebook_options, savefig\n",
    "from uq.analysis.plot_cd_diagram import draw_my_cd_diagram\n",
    "\n",
    "set_notebook_options()\n",
    "\n",
    "path = Path('results')\n",
    "ext = 'pdf'"
   ]
  },
  {
   "attachments": {},
   "cell_type": "markdown",
   "metadata": {},
   "source": [
    "### Loading the dataframe"
   ]
  },
  {
   "cell_type": "code",
   "execution_count": null,
   "metadata": {},
   "outputs": [],
   "source": [
    "config = load_config('logs/hparam_tuning/')"
   ]
  },
  {
   "cell_type": "code",
   "execution_count": null,
   "metadata": {},
   "outputs": [],
   "source": [
    "df = load_df(config, tuning=True)\n",
    "test_df = make_test_df_for_tuning(df, config)\n",
    "\n",
    "def op_without_index(df, op):\n",
    "    names = df.index.names\n",
    "    df = op(df.reset_index())\n",
    "    return df.set_index(names)\n",
    "\n",
    "def op(df):\n",
    "    if 'lambda_' in df.columns:\n",
    "        df['lambda_'] = df['lambda_'].fillna(0)\n",
    "    return df\n",
    "\n",
    "op_without_index(test_df, op)"
   ]
  },
  {
   "attachments": {},
   "cell_type": "markdown",
   "metadata": {},
   "source": [
    "### Helper functions"
   ]
  },
  {
   "cell_type": "code",
   "execution_count": null,
   "metadata": {},
   "outputs": [],
   "source": [
    "def hparam_str(hparam, value):\n",
    "    if hparam == 'mixture_size':\n",
    "        return f'{value} components'\n",
    "    elif hparam == 'nb_hidden':\n",
    "        return f'{value} hidden layers'\n",
    "    elif hparam == 'n_quantiles':\n",
    "        return f'{value} quantiles'\n",
    "    elif hparam == 'lambda_':\n",
    "        return rf'$\\lambda={value}$'\n",
    "\n",
    "\n",
    "def model_name(d, hparams):\n",
    "    return ', '.join([hparam_str(hparam, d[hparam]) for hparam in hparams])\n",
    "\n",
    "\n",
    "def standard_setting(df, hparams=None):\n",
    "    index = df.index.names\n",
    "    df = df.reset_index()\n",
    "    model_name_partial = partial(model_name, hparams=hparams)\n",
    "    df['name'] = df.apply(model_name_partial, axis='columns').astype('string')\n",
    "    df['base_loss'] = pd.Categorical(df['base_loss'], ['nll', 'crps', 'expected_qs']).astype('string')\n",
    "    df.sort_values('base_loss', kind='stable')\n",
    "    df = df.set_index(index + ['name'])\n",
    "    return df"
   ]
  },
  {
   "cell_type": "code",
   "execution_count": null,
   "metadata": {},
   "outputs": [],
   "source": [
    "metrics = ['test_calib_l1', 'test_wis', 'test_nll', 'test_stddev']\n",
    "\n",
    "def metric_queries(metrics):\n",
    "    return {\n",
    "        metric: f'metric == \"{metric}\"'\n",
    "        for metric in metrics\n",
    "    }\n",
    "\n",
    "def plot_all_cohen_d(plot_df, default_cohen_d, path, fig_kwargs={}):\n",
    "    df_cohen = default_cohen_d(plot_df)\n",
    "    fig = plot_cohen_d_boxplot(df_cohen, metric_queries(metrics), legend=False, **fig_kwargs)\n",
    "    savefig(path / f'cohen_d_boxplot.{ext}', fig)"
   ]
  },
  {
   "attachments": {},
   "cell_type": "markdown",
   "metadata": {},
   "source": [
    "### Comparison with different numbers of hidden layers"
   ]
  },
  {
   "cell_type": "code",
   "execution_count": null,
   "metadata": {},
   "outputs": [],
   "source": [
    "# `baseline_query` selects the baselines. The models that are not selected are the compared models.\n",
    "baseline_query = 'nb_hidden == 3'\n",
    "# `join_by` represents all columns that should be the same when comparing a model and its baseline.\n",
    "join_by = [\n",
    "    'dataset_group', 'dataset', 'run_id', 'metric',\n",
    "    'base_loss', 'pred_type', 'mixture_size'\n",
    "]\n",
    "# `columns_to_keep` represents the columns of the compared model that should be kept in the final result.\n",
    "# Note that these columns do not have to be the same between a compared model and its baseline.\n",
    "columns_to_keep = ['name', 'nb_hidden']\n",
    "\n",
    "default_cohen_d = partial(build_cohen_d, \n",
    "    metrics=metrics, baseline_query=baseline_query, join_by=join_by, columns_to_keep=columns_to_keep\n",
    ")\n",
    "\n",
    "plot_df = standard_setting(test_df, hparams=['nb_hidden']).query('model == \"no_regul\" and mixture_size == 3 and base_loss == \"nll\"')\n",
    "plot_all_cohen_d(plot_df, default_cohen_d, path=path / 'hparams' / 'nb_hidden')"
   ]
  },
  {
   "attachments": {},
   "cell_type": "markdown",
   "metadata": {},
   "source": [
    "### Comparison of mixtures with different numbers of components"
   ]
  },
  {
   "cell_type": "code",
   "execution_count": null,
   "metadata": {},
   "outputs": [],
   "source": [
    "baseline_query = 'mixture_size == 3'\n",
    "join_by = [\n",
    "    'dataset_group', 'dataset', 'run_id', 'metric',\n",
    "    'base_loss', 'pred_type', 'nb_hidden'\n",
    "]\n",
    "columns_to_keep = ['name', 'mixture_size']\n",
    "\n",
    "default_cohen_d = partial(build_cohen_d, \n",
    "    metrics=metrics, baseline_query=baseline_query, join_by=join_by, columns_to_keep=columns_to_keep\n",
    ")\n",
    "\n",
    "plot_df = standard_setting(test_df, hparams=['mixture_size']).query('model == \"no_regul\" and nb_hidden == 3 and base_loss == \"nll\"')\n",
    "plot_all_cohen_d(plot_df, default_cohen_d, path=path / 'hparams' / 'mixture_size')"
   ]
  },
  {
   "attachments": {},
   "cell_type": "markdown",
   "metadata": {},
   "source": [
    "### Comparison of quantile predictions with different numbers of quantiles"
   ]
  },
  {
   "cell_type": "code",
   "execution_count": null,
   "metadata": {},
   "outputs": [],
   "source": [
    "baseline_query = 'n_quantiles == 64'\n",
    "join_by = [\n",
    "    'dataset_group', 'dataset', 'run_id', 'metric',\n",
    "    'base_loss', 'pred_type', 'nb_hidden', 'mixture_size'\n",
    "]\n",
    "columns_to_keep = ['name', 'n_quantiles']\n",
    "\n",
    "default_cohen_d = partial(build_cohen_d, \n",
    "    metrics=metrics, baseline_query=baseline_query, join_by=join_by, columns_to_keep=columns_to_keep\n",
    ")\n",
    "\n",
    "plot_df = standard_setting(test_df, hparams=['n_quantiles']).query('model == \"no_regul\" and nb_hidden == 3 and base_loss == \"expected_qs\"')\n",
    "plot_all_cohen_d(plot_df, default_cohen_d, path=path / 'hparams' / 'n_quantiles')"
   ]
  },
  {
   "attachments": {},
   "cell_type": "markdown",
   "metadata": {},
   "source": [
    "### Comparison with different numbers of hidden layers and components in the mixtures"
   ]
  },
  {
   "cell_type": "code",
   "execution_count": null,
   "metadata": {},
   "outputs": [],
   "source": [
    "baseline_query = 'nb_hidden == 3 and mixture_size == 3'\n",
    "join_by = [\n",
    "    'dataset_group', 'dataset', 'run_id', 'metric',\n",
    "    'base_loss', 'pred_type',\n",
    "]\n",
    "columns_to_keep = ['name', 'nb_hidden', 'mixture_size',]\n",
    "\n",
    "default_cohen_d = partial(build_cohen_d, \n",
    "    metrics=metrics, baseline_query=baseline_query, join_by=join_by, columns_to_keep=columns_to_keep\n",
    ")\n",
    "\n",
    "plot_df = standard_setting(test_df, hparams=['nb_hidden', 'mixture_size']).query('model == \"no_regul\" and base_loss == \"nll\"')\n",
    "plot_all_cohen_d(plot_df, default_cohen_d, path=path / 'hparams' / 'nb_hidden_and_mixture_size')"
   ]
  },
  {
   "attachments": {},
   "cell_type": "markdown",
   "metadata": {},
   "source": [
    "### Comparison with different regularization strengths"
   ]
  },
  {
   "cell_type": "code",
   "execution_count": null,
   "metadata": {},
   "outputs": [],
   "source": [
    "join_by = [\n",
    "    'dataset_group', 'dataset', 'run_id', 'metric',\n",
    "    'base_loss', 'pred_type',\n",
    "]\n",
    "columns_to_keep = ['name', 'lambda_', 's']\n",
    "\n",
    "for model, s in [('cdf_based', 50), ('quantile_based', 0.01), ('entropy_based', 0.01)]:\n",
    "    baseline_query = f'lambda_ == 0.2 and s == {s}'\n",
    "    default_cohen_d = partial(build_cohen_d, \n",
    "        metrics=metrics, baseline_query=baseline_query, join_by=join_by, columns_to_keep=columns_to_keep\n",
    "    )\n",
    "\n",
    "    plot_df = standard_setting(test_df.query(f's == {s}'), hparams=['lambda_']).query(f'model == \"{model}\" and base_loss == \"nll\"')\n",
    "    plot_all_cohen_d(plot_df, default_cohen_d, path=path / 'hparams' / 'lambda_' / model)"
   ]
  },
  {
   "cell_type": "code",
   "execution_count": null,
   "metadata": {},
   "outputs": [],
   "source": [
    "test_df.query('pred_type == \"mixture\" and model == \"cdf_based\"').groupby('lambda_', dropna=False)[['test_nll', 'test_calib_l1']].agg(lambda x: x.median(skipna=False))"
   ]
  },
  {
   "cell_type": "code",
   "execution_count": null,
   "metadata": {},
   "outputs": [],
   "source": []
  }
 ],
 "metadata": {
  "kernelspec": {
   "display_name": "regul",
   "language": "python",
   "name": "python3"
  },
  "language_info": {
   "codemirror_mode": {
    "name": "ipython",
    "version": 3
   },
   "file_extension": ".py",
   "mimetype": "text/x-python",
   "name": "python",
   "nbconvert_exporter": "python",
   "pygments_lexer": "ipython3",
   "version": "3.10.11"
  },
  "orig_nbformat": 4,
  "vscode": {
   "interpreter": {
    "hash": "8a8dedf9293b37ff9b138d946f5378258f0cf3b04aeac4c8b4c7c642523b0a45"
   }
  }
 },
 "nbformat": 4,
 "nbformat_minor": 2
}
